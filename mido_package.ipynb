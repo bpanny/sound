{
 "cells": [
  {
   "cell_type": "code",
   "execution_count": 2,
   "metadata": {},
   "outputs": [],
   "source": [
    "import mido\n",
    "from mido import MidiFile, MidiTrack, Message\n",
    "\n",
    "# Create a MIDI file (type 1) with one track\n",
    "mid = MidiFile(type=1)\n",
    "track = MidiTrack()\n",
    "mid.tracks.append(track)\n",
    "\n",
    "# Define some notes\n",
    "notes = [60, 62, 64, 65, 67, 69, 71, 72]  # C4 to C5 in MIDI note numbers\n",
    "\n",
    "# Add notes to the track\n",
    "for note in notes:\n",
    "    # time parameter is delay before message is executed\n",
    "    track.append(Message('note_on', note=note, velocity=64, time=0)) # takes time long to play note_on\n",
    "    track.append(Message('note_off', note=note, velocity=127, time=480)) # note lasts for time to note_off\n",
    "\n",
    "# Save the MIDI file\n",
    "mid.save('midi_example.mid')\n"
   ]
  },
  {
   "cell_type": "markdown",
   "metadata": {},
   "source": [
    "## Ticks\n",
    "\n",
    "To calculate the duration of a quarter note in MIDI ticks at a certain BPM (beats per minute), you need to know two things:\n",
    "\n",
    "The BPM of the piece: In this case, it's 120 BPM.\n",
    "The MIDI file's PPQ (Pulses Per Quarter note): This is a setting in the MIDI file that defines how many ticks represent a quarter note. The default value is often 480 or 960 ticks per quarter note, but it can vary.\n",
    "The formula to calculate the duration of a quarter note in ticks is:\n",
    "\n",
    "$$\n",
    "\\text{Duration in ticks} = PPQ\n",
    "$$\n",
    "\n",
    "For a standard PPQ of 480, at 120 BPM, the duration of a quarter note is simply 480 ticks.\n",
    "\n",
    "If you're working with a different PPQ, you would substitute that value into the formula. For example, if the PPQ were 960, then a quarter note at 120 BPM would be 960 ticks."
   ]
  },
  {
   "cell_type": "code",
   "execution_count": 7,
   "metadata": {},
   "outputs": [
    {
     "data": {
      "text/plain": [
       "'major_triads_c_major_bend.mid'"
      ]
     },
     "execution_count": 7,
     "metadata": {},
     "output_type": "execute_result"
    }
   ],
   "source": [
    "import mido\n",
    "from mido import MidiFile, MidiTrack, Message\n",
    "\n",
    "# Create a MIDI file (type 1) with one track\n",
    "mid = MidiFile(type=1)\n",
    "track = MidiTrack()\n",
    "mid.tracks.append(track)\n",
    "\n",
    "# Define the notes for each major triad in C major\n",
    "triads = [\n",
    "    [60, 64, 67],  # C major triad\n",
    "    [65, 69, 72],  # F major triad\n",
    "    [67, 71, 74]   # G major triad\n",
    "]\n",
    "\n",
    "# Add the triads to the track\n",
    "for triad in triads:\n",
    "    for note in triad:\n",
    "        # Note on\n",
    "        track.append(Message('note_on', note=note, velocity=64, time=0))\n",
    "    # Delay (in ticks) before turning off the notes\n",
    "    delay = 480  # For a quarter note at standard PPQ of 480\n",
    "    for note in triad:\n",
    "        # Note off\n",
    "        track.append(Message('note_off', note=note, velocity=127, time=delay if note == triad[0] else 0))\n",
    "    # Eight note delay before the next chord\n",
    "    track.append(Message('note_off', note=0, velocity=0, time=240))\n",
    "\n",
    "# Save the MIDI file\n",
    "midi_file_path = 'major_triads_c_major.mid'\n",
    "mid.save(midi_file_path)\n",
    "midi_file_path\n"
   ]
  },
  {
   "cell_type": "markdown",
   "metadata": {},
   "source": [
    "```\n",
    "track.append(Message('note_off', note=note, velocity=127, time=delay if note == triad[0] else 0))\n",
    "```\n",
    "\n",
    "In this line, we are turning off the notes of a chord (triad). The note_off messages are sent for each note in the triad. The critical part to understand here is the time parameter in the Message function:\n",
    "\n",
    "time specifies the delay before the message is executed, relative to the previous event. This is measured in MIDI ticks.\n",
    "\n",
    "delay if note == triad[0] else 0: This part ensures that the first note in the triad (triad[0]) has a delay before it turns off, but the subsequent notes in the triad turn off immediately after.\n",
    "\n",
    "This is because in MIDI sequencing, time is cumulative from the last event. When the first note_off message is sent (for triad[0]), it includes a delay (the duration for which the chord is held), and then it turns off the first note of the triad. For the next notes in the triad, we set time=0 because we want them to turn off simultaneously with the first note. If we added a delay to these notes as well, they would turn off sequentially, not simultaneously, and that would not correctly represent a chord being released."
   ]
  }
 ],
 "metadata": {
  "kernelspec": {
   "display_name": "Python 3",
   "language": "python",
   "name": "python3"
  },
  "language_info": {
   "codemirror_mode": {
    "name": "ipython",
    "version": 3
   },
   "file_extension": ".py",
   "mimetype": "text/x-python",
   "name": "python",
   "nbconvert_exporter": "python",
   "pygments_lexer": "ipython3",
   "version": "3.11.5"
  }
 },
 "nbformat": 4,
 "nbformat_minor": 2
}
