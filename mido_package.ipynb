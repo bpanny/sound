{
 "cells": [
  {
   "cell_type": "code",
   "execution_count": 1,
   "metadata": {},
   "outputs": [],
   "source": [
    "import mido\n",
    "from mido import MidiFile, MidiTrack, Message\n",
    "\n",
    "# Create a MIDI file (type 1) with one track\n",
    "mid = MidiFile(type=1)\n",
    "track = MidiTrack()\n",
    "mid.tracks.append(track)\n",
    "\n",
    "# Define some notes\n",
    "notes = [60, 62, 64, 65, 67, 69, 71, 72]  # C4 to C5 in MIDI note numbers\n",
    "\n",
    "# Add notes to the track\n",
    "for note in notes:\n",
    "    track.append(Message('note_on', note=note, velocity=64, time=480))\n",
    "    track.append(Message('note_off', note=note, velocity=127, time=480))\n",
    "\n",
    "# Save the MIDI file\n",
    "mid.save('midi_example.mid')\n"
   ]
  }
 ],
 "metadata": {
  "kernelspec": {
   "display_name": "Python 3",
   "language": "python",
   "name": "python3"
  },
  "language_info": {
   "codemirror_mode": {
    "name": "ipython",
    "version": 3
   },
   "file_extension": ".py",
   "mimetype": "text/x-python",
   "name": "python",
   "nbconvert_exporter": "python",
   "pygments_lexer": "ipython3",
   "version": "3.11.5"
  }
 },
 "nbformat": 4,
 "nbformat_minor": 2
}
